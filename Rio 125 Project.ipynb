{
 "cells": [
  {
   "cell_type": "code",
   "execution_count": 1,
   "metadata": {},
   "outputs": [],
   "source": [
    "import sklearn\n",
    "import skimage\n",
    "import tensorflow as tf\n",
    "import keras\n",
    "import numpy as np\n",
    "import matplotlib.pyplot as plt\n",
    "%matplotlib inline"
   ]
  },
  {
   "cell_type": "code",
   "execution_count": 2,
   "metadata": {},
   "outputs": [],
   "source": [
    "from tensorflow.keras.utils import to_categorical\n",
    "\n",
    "from keras.datasets import fashion_mnist\n",
    "\n",
    "#Loading dataset\n",
    "(trainX,trainy),(testX,testy) = fashion_mnist.load_data()\n",
    "\n",
    "def load_dataset():\n",
    "    #Load dataset\n",
    "    (trainX,trainy),(testX,testY) = fashion_mnist.load_data()\n",
    "    #reshape dataset to have a single channel\n",
    "    trainX=trainX.reshape((trainX.shape[0],28,28,1))\n",
    "    testX=testX.reshape((testX.shape[0],28,28,1))\n",
    "    #one hot encode target values\n",
    "    trainy = to_categorical(trainy)\n",
    "    testY = to_categorical(testY)\n",
    "    return trainX, trainy, testX, testY"
   ]
  },
  {
   "cell_type": "markdown",
   "metadata": {},
   "source": [
    "## Subset Generation"
   ]
  },
  {
   "cell_type": "code",
   "execution_count": 3,
   "metadata": {},
   "outputs": [],
   "source": [
    "seed = 9\n",
    "from sklearn.model_selection import StratifiedShuffleSplit\n",
    "data_split = StratifiedShuffleSplit(test_size=0.08,random_state=seed)\n",
    "for train_index,test_index in data_split.split(trainX,trainy):\n",
    "    split_data_92, split_data_8 = trainX[train_index], trainX[test_index]\n",
    "    split_label_92, split_label_8 = trainy[train_index], trainy[test_index]\n",
    "    train_test_split = StratifiedShuffleSplit(test_size=0.3,random_state=seed)"
   ]
  },
  {
   "cell_type": "markdown",
   "metadata": {},
   "source": [
    "## Data Splitting"
   ]
  },
  {
   "cell_type": "code",
   "execution_count": 4,
   "metadata": {
    "scrolled": true
   },
   "outputs": [
    {
     "name": "stdout",
     "output_type": "stream",
     "text": [
      "train_data:  (3360, 28, 28)\n",
      "train_labels:  (3360,)\n",
      "test_data:  (1440, 28, 28)\n",
      "test_labels:  (1440,)\n"
     ]
    }
   ],
   "source": [
    "for train_index, test_index in train_test_split.split(split_data_8,split_label_8):\n",
    "    \n",
    "    train_data_70, test_data_30 = split_data_8[train_index],split_data_8[test_index]\n",
    "    \n",
    "    train_label_70, test_label_30 = split_label_8[train_index],split_label_8[test_index]\n",
    "train_data = train_data_70\n",
    "train_labels = train_label_70\n",
    "test_data = test_data_30\n",
    "test_labels = test_label_30\n",
    "\n",
    "print('train_data: ',train_data.shape)\n",
    "print('train_labels: ',train_labels.shape)\n",
    "print('test_data: ',test_data.shape)\n",
    "print('test_labels: ',test_labels.shape)"
   ]
  },
  {
   "cell_type": "markdown",
   "metadata": {},
   "source": [
    "## Data Preprocessing\n",
    "\n",
    "   ### Normalization"
   ]
  },
  {
   "cell_type": "code",
   "execution_count": 5,
   "metadata": {},
   "outputs": [
    {
     "name": "stdout",
     "output_type": "stream",
     "text": [
      "train_data:  (3360, 28, 28)\n",
      "test_data:  (1440, 28, 28)\n"
     ]
    }
   ],
   "source": [
    "def normalize(data,eps=1e-8):\n",
    "    \n",
    "    data-=data.mean(axis=(0,1,2),keepdims=True)\n",
    "    \n",
    "    std = np.sqrt(data.var(axis=(0,1,2), ddof=1, keepdims=True))\n",
    "    \n",
    "    std[std<eps]=1\n",
    "    \n",
    "    data/=std\n",
    "    \n",
    "    return data\n",
    "\n",
    "train_data = train_data.astype('float64')\n",
    "test_data = test_data.astype('float64')\n",
    "\n",
    "train_data = normalize(train_data)\n",
    "test_data = normalize(test_data)\n",
    "\n",
    "print('train_data: ',train_data.shape)\n",
    "print('test_data: ',test_data.shape)"
   ]
  },
  {
   "cell_type": "markdown",
   "metadata": {},
   "source": [
    "### ZCA Whitening"
   ]
  },
  {
   "cell_type": "code",
   "execution_count": 6,
   "metadata": {},
   "outputs": [
    {
     "name": "stdout",
     "output_type": "stream",
     "text": [
      "train_data_flat:  (784, 3360)\n",
      "test_data_flat:  (784, 1440)\n",
      "train_data_flat_t:  (784, 3360)\n",
      "test_data_flat_t:  (784, 1440)\n"
     ]
    }
   ],
   "source": [
    "train_data_flat = train_data.reshape(train_data.shape[0],-1).T\n",
    "test_data_flat = test_data.reshape(test_data.shape[0],-1).T\n",
    "\n",
    "print('train_data_flat: ',train_data_flat.shape)\n",
    "print('test_data_flat: ',test_data_flat.shape)\n",
    "\n",
    "train_data_flat_t = train_data_flat.T\n",
    "test_data_flat_t = test_data_flat.T\n",
    "\n",
    "print('train_data_flat_t: ',train_data_flat.shape)\n",
    "print('test_data_flat_t: ',test_data_flat.shape)"
   ]
  },
  {
   "cell_type": "markdown",
   "metadata": {},
   "source": [
    "### PCA"
   ]
  },
  {
   "cell_type": "code",
   "execution_count": 7,
   "metadata": {},
   "outputs": [
    {
     "name": "stdout",
     "output_type": "stream",
     "text": [
      "(784, 784)\n",
      "(784, 784)\n"
     ]
    }
   ],
   "source": [
    "from sklearn.decomposition import PCA\n",
    "\n",
    "train_data_pca = PCA(n_components=train_data_flat.shape[0]).fit_transform(train_data_flat) #changed from shape[1] to shape[0]\n",
    "test_data_pca = PCA(n_components=test_data_flat.shape[0]).fit_transform(test_data_flat) #same as above\n",
    "\n",
    "print(train_data_pca.shape)\n",
    "print(test_data_pca.shape)\n",
    "\n",
    "train_data_pca = train_data_pca.T\n",
    "test_data_pca = test_data_pca.T"
   ]
  },
  {
   "cell_type": "code",
   "execution_count": null,
   "metadata": {},
   "outputs": [],
   "source": []
  }
 ],
 "metadata": {
  "kernelspec": {
   "display_name": "Python 3",
   "language": "python",
   "name": "python3"
  },
  "language_info": {
   "codemirror_mode": {
    "name": "ipython",
    "version": 3
   },
   "file_extension": ".py",
   "mimetype": "text/x-python",
   "name": "python",
   "nbconvert_exporter": "python",
   "pygments_lexer": "ipython3",
   "version": "3.8.5"
  }
 },
 "nbformat": 4,
 "nbformat_minor": 4
}
